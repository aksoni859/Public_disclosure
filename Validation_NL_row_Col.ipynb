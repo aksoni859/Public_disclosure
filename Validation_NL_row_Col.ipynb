{
 "cells": [
  {
   "cell_type": "code",
   "execution_count": 34,
   "metadata": {},
   "outputs": [],
   "source": [
    "# Import Libraries\n",
    "import camelot\n",
    "import os\n",
    "import numpy as np\n",
    "import pandas as pd\n",
    "\n",
    "\n",
    "#Fill data as per requirement\n",
    "company = 'Bajaj_Allianz'\n",
    "financial_yrs = ['2018_2019','2019_2020','2020_2021']\n",
    "quarters = ['Q1','Q2','Q3','Q4']\n",
    "\n",
    "temp_row=pd.DataFrame()\n",
    "\n",
    "temp_col=pd.DataFrame()\n",
    "\n",
    "for financial_yr in financial_yrs:\n",
    "    for quarter in quarters:\n",
    "        dir_path = r\"D:\\proj_PDNL\\PDF\"\n",
    "        file = os.path.join(dir_path,company,financial_yr,quarter,'NL-7.pdf')\n",
    "        print(file)\n",
    "        \n",
    "        tables = camelot.read_pdf(file)#,pages=\"all\")\n",
    "        print(\"Total tables extracted:\", tables.n)\n",
    "        \n",
    "        row = tables[0].df[1][:]\n",
    "        \n",
    "        row[0]=financial_yr+'_'+quarter\n",
    "        \n",
    "        temp_row = pd.concat([temp_row,row],axis=1)\n",
    "        \n",
    "        \n",
    "        col = temp.transpose()[1]\n",
    "        col[0] = financial_yr+'_'+quarter\n",
    "        \n",
    "        temp_col = pd.concat([temp_col,col],axis=1)\n",
    "        \n",
    "\n",
    "temp_row.to_csv(r\"D:\\proj_PDNL\\temp_row.csv\")\n",
    "temp_col.to_csv(r\"D:\\proj_PDNL\\temp_col.csv\")\n",
    "        \n",
    "        \n",
    "        \n",
    "        \n"
   ]
  }
 ],
 "metadata": {
  "hide_input": false,
  "kernelspec": {
   "display_name": "Python 3",
   "language": "python",
   "name": "python3"
  },
  "language_info": {
   "codemirror_mode": {
    "name": "ipython",
    "version": 3
   },
   "file_extension": ".py",
   "mimetype": "text/x-python",
   "name": "python",
   "nbconvert_exporter": "python",
   "pygments_lexer": "ipython3",
   "version": "3.7.4"
  },
  "toc": {
   "base_numbering": 1,
   "nav_menu": {},
   "number_sections": true,
   "sideBar": true,
   "skip_h1_title": false,
   "title_cell": "Table of Contents",
   "title_sidebar": "Contents",
   "toc_cell": false,
   "toc_position": {},
   "toc_section_display": true,
   "toc_window_display": false
  }
 },
 "nbformat": 4,
 "nbformat_minor": 2
}
